{
 "cells": [
  {
   "cell_type": "code",
   "execution_count": 1,
   "id": "63ae5020",
   "metadata": {},
   "outputs": [],
   "source": [
    "# Importando as bibliotecas necessárias para o cálculo\n",
    "import numpy as np \n",
    "import pandas as pd\n",
    "from pandas_datareader import data as wb \n",
    "import matplotlib as plt\n"
   ]
  },
  {
   "cell_type": "code",
   "execution_count": 9,
   "id": "2064bd1f",
   "metadata": {},
   "outputs": [],
   "source": [
    "# escolhendo ações no yahoo finance para o calculo, sendo elas: Magazine Luiza e Gerdau\n",
    "tickers = ['MGLU3.SA', 'GGB']\n",
    "\n",
    "#Inserindo o código que busca as informações da Magazine e Gerdau e solicitando as datas desejadas\n",
    "sec_data = pd.DataFrame()\n",
    "for t in tickers:\n",
    "    sec_data[t] = wb.DataReader(t, data_source='yahoo', start='2015-1-1')['Adj Close']"
   ]
  },
  {
   "cell_type": "code",
   "execution_count": 12,
   "id": "2c11124c",
   "metadata": {},
   "outputs": [],
   "source": [
    "#Agora irei armazenar os dados numa nova tabela, para vermos os retornos de cada ação\n",
    "sec_returns = np.log(sec_data / sec_data.shift(1))"
   ]
  },
  {
   "cell_type": "markdown",
   "id": "be5e77b6",
   "metadata": {},
   "source": [
    "## MGLU3.SA"
   ]
  },
  {
   "cell_type": "code",
   "execution_count": 19,
   "id": "f564fb0f",
   "metadata": {},
   "outputs": [
    {
     "data": {
      "text/plain": [
       "0.0015847981665812656"
      ]
     },
     "execution_count": 19,
     "metadata": {},
     "output_type": "execute_result"
    }
   ],
   "source": [
    "#Calculando a média dos retornos da Magazine Luiza, sendo o retorno médio diário \n",
    "sec_returns['MGLU3.SA'].mean()"
   ]
  },
  {
   "cell_type": "code",
   "execution_count": 22,
   "id": "d9200519",
   "metadata": {},
   "outputs": [
    {
     "data": {
      "text/plain": [
       "0.3961995416453164"
      ]
     },
     "execution_count": 22,
     "metadata": {},
     "output_type": "execute_result"
    }
   ],
   "source": [
    "#Agora, precisarei multiplicar pelo número de dias úteis no ano, resultando na taxa anual de retorno\n",
    "sec_returns['MGLU3.SA'].mean() * 250"
   ]
  },
  {
   "cell_type": "code",
   "execution_count": 23,
   "id": "e4923ec5",
   "metadata": {},
   "outputs": [
    {
     "data": {
      "text/plain": [
       "0.04140803262375885"
      ]
     },
     "execution_count": 23,
     "metadata": {},
     "output_type": "execute_result"
    }
   ],
   "source": [
    "#Para calcular a volatilidade da ação, vou averiguar o desvio padrão na formula\n",
    "sec_returns['MGLU3.SA'].std()"
   ]
  },
  {
   "cell_type": "code",
   "execution_count": 24,
   "id": "b924667a",
   "metadata": {},
   "outputs": [
    {
     "data": {
      "text/plain": [
       "0.6547184825881802"
      ]
     },
     "execution_count": 24,
     "metadata": {},
     "output_type": "execute_result"
    }
   ],
   "source": [
    "# Agora para anualizar o calculo com o desvio padrão\n",
    "sec_returns['MGLU3.SA'].std() * 250 ** 0.5\n"
   ]
  },
  {
   "cell_type": "markdown",
   "id": "52951d9b",
   "metadata": {},
   "source": [
    "## GGB\n",
    "\n",
    "\n"
   ]
  },
  {
   "cell_type": "markdown",
   "id": "3ba696f4",
   "metadata": {},
   "source": [
    "Agora vou fazer o mesmo com a Gerdau"
   ]
  },
  {
   "cell_type": "code",
   "execution_count": 37,
   "id": "bc4274e3",
   "metadata": {},
   "outputs": [
    {
     "data": {
      "text/plain": [
       "0.00036417754930630864"
      ]
     },
     "execution_count": 37,
     "metadata": {},
     "output_type": "execute_result"
    }
   ],
   "source": [
    "# Média dos retornos, diários\n",
    "sec_returns['GGB'].mean()"
   ]
  },
  {
   "cell_type": "code",
   "execution_count": 38,
   "id": "3cf2bd2f",
   "metadata": {},
   "outputs": [
    {
     "data": {
      "text/plain": [
       "0.09104438732657716"
      ]
     },
     "execution_count": 38,
     "metadata": {},
     "output_type": "execute_result"
    }
   ],
   "source": [
    "# Média De retorno Anual\n",
    "sec_returns['GGB'].mean() * 250"
   ]
  },
  {
   "cell_type": "code",
   "execution_count": 39,
   "id": "0e8b3af2",
   "metadata": {},
   "outputs": [
    {
     "data": {
      "text/plain": [
       "0.036092001346617684"
      ]
     },
     "execution_count": 39,
     "metadata": {},
     "output_type": "execute_result"
    }
   ],
   "source": [
    "# Volatilidade da Ação\n",
    "sec_returns['GGB'].std()\n"
   ]
  },
  {
   "cell_type": "code",
   "execution_count": 40,
   "id": "eefe30af",
   "metadata": {},
   "outputs": [
    {
     "data": {
      "text/plain": [
       "0.5706646478458808"
      ]
     },
     "execution_count": 40,
     "metadata": {},
     "output_type": "execute_result"
    }
   ],
   "source": [
    "# Volatilidade Anual da Ação\n",
    "sec_returns['GGB'].std() * 250 ** 0.5\n"
   ]
  },
  {
   "cell_type": "markdown",
   "id": "a22d3051",
   "metadata": {},
   "source": [
    "## Resultado Final"
   ]
  },
  {
   "cell_type": "code",
   "execution_count": 31,
   "id": "0c1a9456",
   "metadata": {},
   "outputs": [
    {
     "name": "stdout",
     "output_type": "stream",
     "text": [
      "0.3961995416453164\n",
      "0.09104438732657716\n"
     ]
    }
   ],
   "source": [
    "print (sec_returns['MGLU3.SA'].mean() * 250)\n",
    "print (sec_returns['GGB'].mean() * 250)"
   ]
  },
  {
   "cell_type": "code",
   "execution_count": 33,
   "id": "8b5cea45",
   "metadata": {},
   "outputs": [
    {
     "data": {
      "text/plain": [
       "MGLU3.SA    0.396200\n",
       "GGB         0.091044\n",
       "dtype: float64"
      ]
     },
     "execution_count": 33,
     "metadata": {},
     "output_type": "execute_result"
    }
   ],
   "source": [
    "# Média dos Retornos\n",
    "sec_returns[['MGLU3.SA', 'GGB']].mean() * 250"
   ]
  },
  {
   "cell_type": "code",
   "execution_count": 42,
   "id": "0c5dcc61",
   "metadata": {},
   "outputs": [
    {
     "data": {
      "text/plain": [
       "MGLU3.SA    0.654718\n",
       "GGB         0.570665\n",
       "dtype: float64"
      ]
     },
     "execution_count": 42,
     "metadata": {},
     "output_type": "execute_result"
    }
   ],
   "source": [
    "# Média da Volatilidade\n",
    "sec_returns[['MGLU3.SA', 'GGB']].std() * 250 ** 0.5"
   ]
  },
  {
   "cell_type": "markdown",
   "id": "37a4ea34",
   "metadata": {},
   "source": [
    "# Conclusão\n",
    "\n"
   ]
  },
  {
   "cell_type": "markdown",
   "id": "a4e41a75",
   "metadata": {},
   "source": [
    "Ações da Gerdau além de serem um pouco mais seguras que as ações da Magazine, possuem maior retorno."
   ]
  }
 ],
 "metadata": {
  "kernelspec": {
   "display_name": "Python 3",
   "language": "python",
   "name": "python3"
  },
  "language_info": {
   "codemirror_mode": {
    "name": "ipython",
    "version": 3
   },
   "file_extension": ".py",
   "mimetype": "text/x-python",
   "name": "python",
   "nbconvert_exporter": "python",
   "pygments_lexer": "ipython3",
   "version": "3.8.8"
  }
 },
 "nbformat": 4,
 "nbformat_minor": 5
}
