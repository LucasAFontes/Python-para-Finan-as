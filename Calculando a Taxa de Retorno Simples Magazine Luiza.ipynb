{
 "cells": [
  {
   "cell_type": "code",
   "execution_count": 1,
   "id": "cb043572",
   "metadata": {},
   "outputs": [],
   "source": [
    "#Importando as bibliotecas\n",
    "import numpy as np\n",
    "from pandas_datareader import data as wb\n",
    "import matplotlib.pyplot as plt"
   ]
  },
  {
   "cell_type": "code",
   "execution_count": 2,
   "id": "0028d873",
   "metadata": {},
   "outputs": [],
   "source": [
    "#Importando os dados do Yahoo Finance\n",
    "MGL= wb.DataReader('MGLU3.SA', data_source='yahoo', start='2019-1-1')\n"
   ]
  },
  {
   "cell_type": "code",
   "execution_count": 3,
   "id": "8a2c1859",
   "metadata": {},
   "outputs": [
    {
     "data": {
      "text/html": [
       "<div>\n",
       "<style scoped>\n",
       "    .dataframe tbody tr th:only-of-type {\n",
       "        vertical-align: middle;\n",
       "    }\n",
       "\n",
       "    .dataframe tbody tr th {\n",
       "        vertical-align: top;\n",
       "    }\n",
       "\n",
       "    .dataframe thead th {\n",
       "        text-align: right;\n",
       "    }\n",
       "</style>\n",
       "<table border=\"1\" class=\"dataframe\">\n",
       "  <thead>\n",
       "    <tr style=\"text-align: right;\">\n",
       "      <th></th>\n",
       "      <th>High</th>\n",
       "      <th>Low</th>\n",
       "      <th>Open</th>\n",
       "      <th>Close</th>\n",
       "      <th>Volume</th>\n",
       "      <th>Adj Close</th>\n",
       "    </tr>\n",
       "    <tr>\n",
       "      <th>Date</th>\n",
       "      <th></th>\n",
       "      <th></th>\n",
       "      <th></th>\n",
       "      <th></th>\n",
       "      <th></th>\n",
       "      <th></th>\n",
       "    </tr>\n",
       "  </thead>\n",
       "  <tbody>\n",
       "    <tr>\n",
       "      <th>2019-01-02</th>\n",
       "      <td>5.812187</td>\n",
       "      <td>5.594687</td>\n",
       "      <td>5.638125</td>\n",
       "      <td>5.812187</td>\n",
       "      <td>27017600.0</td>\n",
       "      <td>5.641578</td>\n",
       "    </tr>\n",
       "    <tr>\n",
       "      <th>2019-01-03</th>\n",
       "      <td>5.796562</td>\n",
       "      <td>5.605000</td>\n",
       "      <td>5.780937</td>\n",
       "      <td>5.750000</td>\n",
       "      <td>26342400.0</td>\n",
       "      <td>5.581216</td>\n",
       "    </tr>\n",
       "    <tr>\n",
       "      <th>2019-01-04</th>\n",
       "      <td>5.760937</td>\n",
       "      <td>5.573437</td>\n",
       "      <td>5.751562</td>\n",
       "      <td>5.575000</td>\n",
       "      <td>27721600.0</td>\n",
       "      <td>5.411354</td>\n",
       "    </tr>\n",
       "    <tr>\n",
       "      <th>2019-01-07</th>\n",
       "      <td>5.702500</td>\n",
       "      <td>5.539687</td>\n",
       "      <td>5.562500</td>\n",
       "      <td>5.661562</td>\n",
       "      <td>21174400.0</td>\n",
       "      <td>5.495375</td>\n",
       "    </tr>\n",
       "    <tr>\n",
       "      <th>2019-01-08</th>\n",
       "      <td>5.702812</td>\n",
       "      <td>5.593750</td>\n",
       "      <td>5.673437</td>\n",
       "      <td>5.615937</td>\n",
       "      <td>19398400.0</td>\n",
       "      <td>5.451089</td>\n",
       "    </tr>\n",
       "  </tbody>\n",
       "</table>\n",
       "</div>"
      ],
      "text/plain": [
       "                High       Low      Open     Close      Volume  Adj Close\n",
       "Date                                                                     \n",
       "2019-01-02  5.812187  5.594687  5.638125  5.812187  27017600.0   5.641578\n",
       "2019-01-03  5.796562  5.605000  5.780937  5.750000  26342400.0   5.581216\n",
       "2019-01-04  5.760937  5.573437  5.751562  5.575000  27721600.0   5.411354\n",
       "2019-01-07  5.702500  5.539687  5.562500  5.661562  21174400.0   5.495375\n",
       "2019-01-08  5.702812  5.593750  5.673437  5.615937  19398400.0   5.451089"
      ]
     },
     "execution_count": 3,
     "metadata": {},
     "output_type": "execute_result"
    }
   ],
   "source": [
    "MGL.head()"
   ]
  },
  {
   "cell_type": "code",
   "execution_count": 4,
   "id": "8e763522",
   "metadata": {},
   "outputs": [
    {
     "data": {
      "text/html": [
       "<div>\n",
       "<style scoped>\n",
       "    .dataframe tbody tr th:only-of-type {\n",
       "        vertical-align: middle;\n",
       "    }\n",
       "\n",
       "    .dataframe tbody tr th {\n",
       "        vertical-align: top;\n",
       "    }\n",
       "\n",
       "    .dataframe thead th {\n",
       "        text-align: right;\n",
       "    }\n",
       "</style>\n",
       "<table border=\"1\" class=\"dataframe\">\n",
       "  <thead>\n",
       "    <tr style=\"text-align: right;\">\n",
       "      <th></th>\n",
       "      <th>High</th>\n",
       "      <th>Low</th>\n",
       "      <th>Open</th>\n",
       "      <th>Close</th>\n",
       "      <th>Volume</th>\n",
       "      <th>Adj Close</th>\n",
       "    </tr>\n",
       "    <tr>\n",
       "      <th>Date</th>\n",
       "      <th></th>\n",
       "      <th></th>\n",
       "      <th></th>\n",
       "      <th></th>\n",
       "      <th></th>\n",
       "      <th></th>\n",
       "    </tr>\n",
       "  </thead>\n",
       "  <tbody>\n",
       "    <tr>\n",
       "      <th>2022-08-25</th>\n",
       "      <td>4.79</td>\n",
       "      <td>4.58</td>\n",
       "      <td>4.66</td>\n",
       "      <td>4.68</td>\n",
       "      <td>192328700.0</td>\n",
       "      <td>4.68</td>\n",
       "    </tr>\n",
       "    <tr>\n",
       "      <th>2022-08-26</th>\n",
       "      <td>4.76</td>\n",
       "      <td>4.45</td>\n",
       "      <td>4.73</td>\n",
       "      <td>4.58</td>\n",
       "      <td>152412400.0</td>\n",
       "      <td>4.58</td>\n",
       "    </tr>\n",
       "    <tr>\n",
       "      <th>2022-08-29</th>\n",
       "      <td>4.69</td>\n",
       "      <td>4.50</td>\n",
       "      <td>4.51</td>\n",
       "      <td>4.52</td>\n",
       "      <td>140458000.0</td>\n",
       "      <td>4.52</td>\n",
       "    </tr>\n",
       "    <tr>\n",
       "      <th>2022-08-30</th>\n",
       "      <td>4.73</td>\n",
       "      <td>4.34</td>\n",
       "      <td>4.64</td>\n",
       "      <td>4.51</td>\n",
       "      <td>175781100.0</td>\n",
       "      <td>4.51</td>\n",
       "    </tr>\n",
       "    <tr>\n",
       "      <th>2022-08-31</th>\n",
       "      <td>4.62</td>\n",
       "      <td>4.26</td>\n",
       "      <td>4.57</td>\n",
       "      <td>4.27</td>\n",
       "      <td>179917400.0</td>\n",
       "      <td>4.27</td>\n",
       "    </tr>\n",
       "  </tbody>\n",
       "</table>\n",
       "</div>"
      ],
      "text/plain": [
       "            High   Low  Open  Close       Volume  Adj Close\n",
       "Date                                                       \n",
       "2022-08-25  4.79  4.58  4.66   4.68  192328700.0       4.68\n",
       "2022-08-26  4.76  4.45  4.73   4.58  152412400.0       4.58\n",
       "2022-08-29  4.69  4.50  4.51   4.52  140458000.0       4.52\n",
       "2022-08-30  4.73  4.34  4.64   4.51  175781100.0       4.51\n",
       "2022-08-31  4.62  4.26  4.57   4.27  179917400.0       4.27"
      ]
     },
     "execution_count": 4,
     "metadata": {},
     "output_type": "execute_result"
    }
   ],
   "source": [
    "#Lendo o cumprimento do dataframe\n",
    "MGL.tail()\n"
   ]
  },
  {
   "cell_type": "code",
   "execution_count": 5,
   "id": "6276bbaa",
   "metadata": {},
   "outputs": [
    {
     "name": "stdout",
     "output_type": "stream",
     "text": [
      "Date\n",
      "2019-01-02         NaN\n",
      "2019-01-03   -0.010699\n",
      "2019-01-04   -0.030435\n",
      "2019-01-07    0.015527\n",
      "2019-01-08   -0.008059\n",
      "                ...   \n",
      "2022-08-25    0.040000\n",
      "2022-08-26   -0.021368\n",
      "2022-08-29   -0.013100\n",
      "2022-08-30   -0.002212\n",
      "2022-08-31   -0.053215\n",
      "Name: retorno simples, Length: 911, dtype: float64\n"
     ]
    }
   ],
   "source": [
    "#Realizando os cálculos\n",
    "MGL['retorno simples']= (MGL['Adj Close'] / MGL['Adj Close'].shift(1)) - 1\n",
    "print (MGL['retorno simples'])"
   ]
  },
  {
   "cell_type": "code",
   "execution_count": 6,
   "id": "4b17c4db",
   "metadata": {},
   "outputs": [
    {
     "data": {
      "image/png": "[encoded data removed]",
      "text/plain": [
       "<Figure size 720x360 with 1 Axes>"
      ]
     },
     "metadata": {
      "needs_background": "light"
     },
     "output_type": "display_data"
    }
   ],
   "source": [
    "#Plotando os resultados\n",
    "MGL['retorno simples'].plot(figsize=(10, 5))\n",
    "plt.show()"
   ]
  },
  {
   "cell_type": "code",
   "execution_count": 7,
   "id": "26fcd10f",
   "metadata": {},
   "outputs": [
    {
     "data": {
      "text/plain": [
       "0.0004711236219212643"
      ]
     },
     "execution_count": 7,
     "metadata": {},
     "output_type": "execute_result"
    }
   ],
   "source": [
    "retorno_medio = MGL['retorno simples'].mean()\n",
    "retorno_medio\n",
    "\n"
   ]
  },
  {
   "cell_type": "code",
   "execution_count": 8,
   "id": "4292a007",
   "metadata": {},
   "outputs": [
    {
     "data": {
      "text/plain": [
       "0.11778090548031608"
      ]
     },
     "execution_count": 8,
     "metadata": {},
     "output_type": "execute_result"
    }
   ],
   "source": [
    "retorno_medio = MGL['retorno simples'].mean() * 250\n",
    "retorno_medio\n"
   ]
  },
  {
   "cell_type": "code",
   "execution_count": 9,
   "id": "6ae292eb",
   "metadata": {},
   "outputs": [
    {
     "name": "stdout",
     "output_type": "stream",
     "text": [
      "11.777999999999999%\n"
     ]
    }
   ],
   "source": [
    "print ((str(round (retorno_medio, 5) * 100)) + '%')\n"
   ]
  },
  {
   "cell_type": "code",
   "execution_count": null,
   "id": "66e69fc0",
   "metadata": {},
   "outputs": [],
   "source": []
  }
 ],
 "metadata": {
  "kernelspec": {
   "display_name": "Python 3",
   "language": "python",
   "name": "python3"
  },
  "language_info": {
   "codemirror_mode": {
    "name": "ipython",
    "version": 3
   },
   "file_extension": ".py",
   "mimetype": "text/x-python",
   "name": "python",
   "nbconvert_exporter": "python",
   "pygments_lexer": "ipython3",
   "version": "3.8.8"
  }
 },
 "nbformat": 4,
 "nbformat_minor": 5
}
